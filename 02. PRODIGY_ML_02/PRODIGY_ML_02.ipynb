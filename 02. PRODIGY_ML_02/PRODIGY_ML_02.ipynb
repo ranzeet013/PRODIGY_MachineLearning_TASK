{
 "cells": [
  {
   "cell_type": "markdown",
   "id": "388daf1c",
   "metadata": {},
   "source": [
    "### Importing Libraries :"
   ]
  },
  {
   "cell_type": "markdown",
   "id": "5cfef3a8",
   "metadata": {},
   "source": [
    "Importing pandas, numpy, matplotlib.pyplot, and seaborn to enable data manipulation, numerical operations, and data visualization"
   ]
  },
  {
   "cell_type": "code",
   "execution_count": 1,
   "id": "22f78b3c",
   "metadata": {},
   "outputs": [],
   "source": [
    "import pandas as pd\n",
    "import numpy as np\n",
    "import matplotlib.pyplot as plt\n",
    "import seaborn as sns\n",
    "\n",
    "%matplotlib inline"
   ]
  },
  {
   "cell_type": "markdown",
   "id": "cc1e7790",
   "metadata": {},
   "source": [
    "### Data Inspection :"
   ]
  },
  {
   "cell_type": "markdown",
   "id": "fbaa76be",
   "metadata": {},
   "source": [
    "Data inspection involves examining and cleaning datasets to understand their characteristics, identify patterns, and assess data quality. It includes tasks such as exploratory data analysis, feature inspection, and visualization to ensure reliable and meaningful analysis."
   ]
  },
  {
   "cell_type": "code",
   "execution_count": 2,
   "id": "f45326dc",
   "metadata": {},
   "outputs": [],
   "source": [
    "dataset = pd.read_csv('Mall_Customers.csv')"
   ]
  },
  {
   "cell_type": "code",
   "execution_count": 3,
   "id": "e3ada9ed",
   "metadata": {},
   "outputs": [
    {
     "data": {
      "text/html": [
       "<div>\n",
       "<style scoped>\n",
       "    .dataframe tbody tr th:only-of-type {\n",
       "        vertical-align: middle;\n",
       "    }\n",
       "\n",
       "    .dataframe tbody tr th {\n",
       "        vertical-align: top;\n",
       "    }\n",
       "\n",
       "    .dataframe thead th {\n",
       "        text-align: right;\n",
       "    }\n",
       "</style>\n",
       "<table border=\"1\" class=\"dataframe\">\n",
       "  <thead>\n",
       "    <tr style=\"text-align: right;\">\n",
       "      <th></th>\n",
       "      <th>CustomerID</th>\n",
       "      <th>Gender</th>\n",
       "      <th>Age</th>\n",
       "      <th>Annual Income (k$)</th>\n",
       "      <th>Spending Score (1-100)</th>\n",
       "    </tr>\n",
       "  </thead>\n",
       "  <tbody>\n",
       "    <tr>\n",
       "      <th>0</th>\n",
       "      <td>1</td>\n",
       "      <td>Male</td>\n",
       "      <td>19</td>\n",
       "      <td>15</td>\n",
       "      <td>39</td>\n",
       "    </tr>\n",
       "    <tr>\n",
       "      <th>1</th>\n",
       "      <td>2</td>\n",
       "      <td>Male</td>\n",
       "      <td>21</td>\n",
       "      <td>15</td>\n",
       "      <td>81</td>\n",
       "    </tr>\n",
       "    <tr>\n",
       "      <th>2</th>\n",
       "      <td>3</td>\n",
       "      <td>Female</td>\n",
       "      <td>20</td>\n",
       "      <td>16</td>\n",
       "      <td>6</td>\n",
       "    </tr>\n",
       "    <tr>\n",
       "      <th>3</th>\n",
       "      <td>4</td>\n",
       "      <td>Female</td>\n",
       "      <td>23</td>\n",
       "      <td>16</td>\n",
       "      <td>77</td>\n",
       "    </tr>\n",
       "    <tr>\n",
       "      <th>4</th>\n",
       "      <td>5</td>\n",
       "      <td>Female</td>\n",
       "      <td>31</td>\n",
       "      <td>17</td>\n",
       "      <td>40</td>\n",
       "    </tr>\n",
       "  </tbody>\n",
       "</table>\n",
       "</div>"
      ],
      "text/plain": [
       "   CustomerID  Gender  Age  Annual Income (k$)  Spending Score (1-100)\n",
       "0           1    Male   19                  15                      39\n",
       "1           2    Male   21                  15                      81\n",
       "2           3  Female   20                  16                       6\n",
       "3           4  Female   23                  16                      77\n",
       "4           5  Female   31                  17                      40"
      ]
     },
     "execution_count": 3,
     "metadata": {},
     "output_type": "execute_result"
    }
   ],
   "source": [
    "dataset.head()"
   ]
  },
  {
   "cell_type": "code",
   "execution_count": 4,
   "id": "db246e58",
   "metadata": {},
   "outputs": [
    {
     "data": {
      "text/html": [
       "<div>\n",
       "<style scoped>\n",
       "    .dataframe tbody tr th:only-of-type {\n",
       "        vertical-align: middle;\n",
       "    }\n",
       "\n",
       "    .dataframe tbody tr th {\n",
       "        vertical-align: top;\n",
       "    }\n",
       "\n",
       "    .dataframe thead th {\n",
       "        text-align: right;\n",
       "    }\n",
       "</style>\n",
       "<table border=\"1\" class=\"dataframe\">\n",
       "  <thead>\n",
       "    <tr style=\"text-align: right;\">\n",
       "      <th></th>\n",
       "      <th>CustomerID</th>\n",
       "      <th>Gender</th>\n",
       "      <th>Age</th>\n",
       "      <th>Annual Income (k$)</th>\n",
       "      <th>Spending Score (1-100)</th>\n",
       "    </tr>\n",
       "  </thead>\n",
       "  <tbody>\n",
       "    <tr>\n",
       "      <th>0</th>\n",
       "      <td>1</td>\n",
       "      <td>1</td>\n",
       "      <td>19</td>\n",
       "      <td>15</td>\n",
       "      <td>39</td>\n",
       "    </tr>\n",
       "    <tr>\n",
       "      <th>1</th>\n",
       "      <td>2</td>\n",
       "      <td>1</td>\n",
       "      <td>21</td>\n",
       "      <td>15</td>\n",
       "      <td>81</td>\n",
       "    </tr>\n",
       "    <tr>\n",
       "      <th>2</th>\n",
       "      <td>3</td>\n",
       "      <td>0</td>\n",
       "      <td>20</td>\n",
       "      <td>16</td>\n",
       "      <td>6</td>\n",
       "    </tr>\n",
       "    <tr>\n",
       "      <th>3</th>\n",
       "      <td>4</td>\n",
       "      <td>0</td>\n",
       "      <td>23</td>\n",
       "      <td>16</td>\n",
       "      <td>77</td>\n",
       "    </tr>\n",
       "    <tr>\n",
       "      <th>4</th>\n",
       "      <td>5</td>\n",
       "      <td>0</td>\n",
       "      <td>31</td>\n",
       "      <td>17</td>\n",
       "      <td>40</td>\n",
       "    </tr>\n",
       "  </tbody>\n",
       "</table>\n",
       "</div>"
      ],
      "text/plain": [
       "   CustomerID Gender  Age  Annual Income (k$)  Spending Score (1-100)\n",
       "0           1      1   19                  15                      39\n",
       "1           2      1   21                  15                      81\n",
       "2           3      0   20                  16                       6\n",
       "3           4      0   23                  16                      77\n",
       "4           5      0   31                  17                      40"
      ]
     },
     "execution_count": 4,
     "metadata": {},
     "output_type": "execute_result"
    }
   ],
   "source": [
    "dataset['Gender'] = dataset['Gender'].map({'Female': '0', 'Male': '1'})\n",
    "dataset.head()"
   ]
  },
  {
   "cell_type": "code",
   "execution_count": 5,
   "id": "e399be33",
   "metadata": {},
   "outputs": [
    {
     "data": {
      "text/plain": [
       "(200, 5)"
      ]
     },
     "execution_count": 5,
     "metadata": {},
     "output_type": "execute_result"
    }
   ],
   "source": [
    "dataset.shape"
   ]
  },
  {
   "cell_type": "code",
   "execution_count": 6,
   "id": "79ec7a70",
   "metadata": {},
   "outputs": [
    {
     "data": {
      "text/plain": [
       "Index(['CustomerID', 'Gender', 'Age', 'Annual Income (k$)',\n",
       "       'Spending Score (1-100)'],\n",
       "      dtype='object')"
      ]
     },
     "execution_count": 6,
     "metadata": {},
     "output_type": "execute_result"
    }
   ],
   "source": [
    "dataset.columns"
   ]
  },
  {
   "cell_type": "code",
   "execution_count": 7,
   "id": "539a239d",
   "metadata": {},
   "outputs": [
    {
     "name": "stdout",
     "output_type": "stream",
     "text": [
      "<class 'pandas.core.frame.DataFrame'>\n",
      "RangeIndex: 200 entries, 0 to 199\n",
      "Data columns (total 5 columns):\n",
      " #   Column                  Non-Null Count  Dtype \n",
      "---  ------                  --------------  ----- \n",
      " 0   CustomerID              200 non-null    int64 \n",
      " 1   Gender                  200 non-null    object\n",
      " 2   Age                     200 non-null    int64 \n",
      " 3   Annual Income (k$)      200 non-null    int64 \n",
      " 4   Spending Score (1-100)  200 non-null    int64 \n",
      "dtypes: int64(4), object(1)\n",
      "memory usage: 7.9+ KB\n"
     ]
    }
   ],
   "source": [
    "dataset.info()"
   ]
  },
  {
   "cell_type": "markdown",
   "id": "be06dc91",
   "metadata": {},
   "source": [
    "Selecting columns in the dataset that have data types of 'int64' or 'float64' "
   ]
  },
  {
   "cell_type": "code",
   "execution_count": 8,
   "id": "afbc216e",
   "metadata": {},
   "outputs": [
    {
     "data": {
      "text/plain": [
       "Index(['CustomerID', 'Age', 'Annual Income (k$)', 'Spending Score (1-100)'], dtype='object')"
      ]
     },
     "execution_count": 8,
     "metadata": {},
     "output_type": "execute_result"
    }
   ],
   "source": [
    "dataset.select_dtypes(include = ['int64', 'float64']).columns"
   ]
  },
  {
   "cell_type": "markdown",
   "id": "9998b32b",
   "metadata": {},
   "source": [
    "### Statical Info of Dataset :"
   ]
  },
  {
   "cell_type": "markdown",
   "id": "1e9bbca9",
   "metadata": {},
   "source": [
    "\n",
    "Statistical information refers to data that has been analyzed and summarized using statistical methods. It includes measures such as mean, median, mode, standard deviation, and other descriptive statistics. These metrics provide a quantitative summary of a dataset, revealing central tendencies, variability, and distribution patterns. "
   ]
  },
  {
   "cell_type": "code",
   "execution_count": 9,
   "id": "b2ff3a78",
   "metadata": {},
   "outputs": [
    {
     "data": {
      "text/html": [
       "<div>\n",
       "<style scoped>\n",
       "    .dataframe tbody tr th:only-of-type {\n",
       "        vertical-align: middle;\n",
       "    }\n",
       "\n",
       "    .dataframe tbody tr th {\n",
       "        vertical-align: top;\n",
       "    }\n",
       "\n",
       "    .dataframe thead th {\n",
       "        text-align: right;\n",
       "    }\n",
       "</style>\n",
       "<table border=\"1\" class=\"dataframe\">\n",
       "  <thead>\n",
       "    <tr style=\"text-align: right;\">\n",
       "      <th></th>\n",
       "      <th>CustomerID</th>\n",
       "      <th>Age</th>\n",
       "      <th>Annual Income (k$)</th>\n",
       "      <th>Spending Score (1-100)</th>\n",
       "    </tr>\n",
       "  </thead>\n",
       "  <tbody>\n",
       "    <tr>\n",
       "      <th>count</th>\n",
       "      <td>200.000000</td>\n",
       "      <td>200.000000</td>\n",
       "      <td>200.000000</td>\n",
       "      <td>200.000000</td>\n",
       "    </tr>\n",
       "    <tr>\n",
       "      <th>mean</th>\n",
       "      <td>100.500000</td>\n",
       "      <td>38.850000</td>\n",
       "      <td>60.560000</td>\n",
       "      <td>50.200000</td>\n",
       "    </tr>\n",
       "    <tr>\n",
       "      <th>std</th>\n",
       "      <td>57.879185</td>\n",
       "      <td>13.969007</td>\n",
       "      <td>26.264721</td>\n",
       "      <td>25.823522</td>\n",
       "    </tr>\n",
       "    <tr>\n",
       "      <th>min</th>\n",
       "      <td>1.000000</td>\n",
       "      <td>18.000000</td>\n",
       "      <td>15.000000</td>\n",
       "      <td>1.000000</td>\n",
       "    </tr>\n",
       "    <tr>\n",
       "      <th>25%</th>\n",
       "      <td>50.750000</td>\n",
       "      <td>28.750000</td>\n",
       "      <td>41.500000</td>\n",
       "      <td>34.750000</td>\n",
       "    </tr>\n",
       "    <tr>\n",
       "      <th>50%</th>\n",
       "      <td>100.500000</td>\n",
       "      <td>36.000000</td>\n",
       "      <td>61.500000</td>\n",
       "      <td>50.000000</td>\n",
       "    </tr>\n",
       "    <tr>\n",
       "      <th>75%</th>\n",
       "      <td>150.250000</td>\n",
       "      <td>49.000000</td>\n",
       "      <td>78.000000</td>\n",
       "      <td>73.000000</td>\n",
       "    </tr>\n",
       "    <tr>\n",
       "      <th>max</th>\n",
       "      <td>200.000000</td>\n",
       "      <td>70.000000</td>\n",
       "      <td>137.000000</td>\n",
       "      <td>99.000000</td>\n",
       "    </tr>\n",
       "  </tbody>\n",
       "</table>\n",
       "</div>"
      ],
      "text/plain": [
       "       CustomerID         Age  Annual Income (k$)  Spending Score (1-100)\n",
       "count  200.000000  200.000000          200.000000              200.000000\n",
       "mean   100.500000   38.850000           60.560000               50.200000\n",
       "std     57.879185   13.969007           26.264721               25.823522\n",
       "min      1.000000   18.000000           15.000000                1.000000\n",
       "25%     50.750000   28.750000           41.500000               34.750000\n",
       "50%    100.500000   36.000000           61.500000               50.000000\n",
       "75%    150.250000   49.000000           78.000000               73.000000\n",
       "max    200.000000   70.000000          137.000000               99.000000"
      ]
     },
     "execution_count": 9,
     "metadata": {},
     "output_type": "execute_result"
    }
   ],
   "source": [
    "dataset.describe()"
   ]
  },
  {
   "cell_type": "code",
   "execution_count": 10,
   "id": "f65cf90a",
   "metadata": {},
   "outputs": [
    {
     "data": {
      "text/plain": [
       "False"
      ]
     },
     "execution_count": 10,
     "metadata": {},
     "output_type": "execute_result"
    }
   ],
   "source": [
    "dataset.isnull().values.any()"
   ]
  },
  {
   "cell_type": "code",
   "execution_count": 11,
   "id": "ad806c3a",
   "metadata": {},
   "outputs": [
    {
     "data": {
      "text/html": [
       "<div>\n",
       "<style scoped>\n",
       "    .dataframe tbody tr th:only-of-type {\n",
       "        vertical-align: middle;\n",
       "    }\n",
       "\n",
       "    .dataframe tbody tr th {\n",
       "        vertical-align: top;\n",
       "    }\n",
       "\n",
       "    .dataframe thead th {\n",
       "        text-align: right;\n",
       "    }\n",
       "</style>\n",
       "<table border=\"1\" class=\"dataframe\">\n",
       "  <thead>\n",
       "    <tr style=\"text-align: right;\">\n",
       "      <th></th>\n",
       "      <th>CustomerID</th>\n",
       "      <th>Gender</th>\n",
       "      <th>Age</th>\n",
       "      <th>Annual Income (k$)</th>\n",
       "      <th>Spending Score (1-100)</th>\n",
       "    </tr>\n",
       "  </thead>\n",
       "  <tbody>\n",
       "    <tr>\n",
       "      <th>0</th>\n",
       "      <td>1</td>\n",
       "      <td>1</td>\n",
       "      <td>19</td>\n",
       "      <td>15</td>\n",
       "      <td>39</td>\n",
       "    </tr>\n",
       "    <tr>\n",
       "      <th>1</th>\n",
       "      <td>2</td>\n",
       "      <td>1</td>\n",
       "      <td>21</td>\n",
       "      <td>15</td>\n",
       "      <td>81</td>\n",
       "    </tr>\n",
       "    <tr>\n",
       "      <th>2</th>\n",
       "      <td>3</td>\n",
       "      <td>0</td>\n",
       "      <td>20</td>\n",
       "      <td>16</td>\n",
       "      <td>6</td>\n",
       "    </tr>\n",
       "    <tr>\n",
       "      <th>3</th>\n",
       "      <td>4</td>\n",
       "      <td>0</td>\n",
       "      <td>23</td>\n",
       "      <td>16</td>\n",
       "      <td>77</td>\n",
       "    </tr>\n",
       "    <tr>\n",
       "      <th>4</th>\n",
       "      <td>5</td>\n",
       "      <td>0</td>\n",
       "      <td>31</td>\n",
       "      <td>17</td>\n",
       "      <td>40</td>\n",
       "    </tr>\n",
       "  </tbody>\n",
       "</table>\n",
       "</div>"
      ],
      "text/plain": [
       "   CustomerID Gender  Age  Annual Income (k$)  Spending Score (1-100)\n",
       "0           1      1   19                  15                      39\n",
       "1           2      1   21                  15                      81\n",
       "2           3      0   20                  16                       6\n",
       "3           4      0   23                  16                      77\n",
       "4           5      0   31                  17                      40"
      ]
     },
     "execution_count": 11,
     "metadata": {},
     "output_type": "execute_result"
    }
   ],
   "source": [
    "dataset.head()"
   ]
  },
  {
   "cell_type": "markdown",
   "id": "2597fee6",
   "metadata": {},
   "source": [
    "Calculating the correlation matrix of the dataset and creating a heatmap.The heatmap visually represents the correlation matrix of the dataset, using colors to show the strength and direction of correlations. Darker shades indicate stronger correlations, while annotations display exact correlation coefficients."
   ]
  },
  {
   "cell_type": "code",
   "execution_count": 12,
   "id": "0220b23b",
   "metadata": {},
   "outputs": [
    {
     "name": "stderr",
     "output_type": "stream",
     "text": [
      "C:\\Users\\DELL\\AppData\\Local\\Temp\\ipykernel_11724\\1787394318.py:1: FutureWarning: The default value of numeric_only in DataFrame.corr is deprecated. In a future version, it will default to False. Select only valid columns or specify the value of numeric_only to silence this warning.\n",
      "  corr_matrix = dataset.corr()\n"
     ]
    },
    {
     "data": {
      "image/png": "[encoded data removed]",
      "text/plain": [
       "<Figure size 500x300 with 2 Axes>"
      ]
     },
     "metadata": {},
     "output_type": "display_data"
    }
   ],
   "source": [
    "corr_matrix = dataset.corr()\n",
    "\n",
    "plt.figure(figsize = (5, 3))\n",
    "ax = sns.heatmap(corr_matrix,\n",
    "                 annot = True, \n",
    "                 cmap = 'coolwarm')"
   ]
  },
  {
   "cell_type": "markdown",
   "id": "bdb6c9f2",
   "metadata": {},
   "source": [
    "Making copy of original dataset"
   ]
  },
  {
   "cell_type": "code",
   "execution_count": 13,
   "id": "ed1899a6",
   "metadata": {},
   "outputs": [],
   "source": [
    "dataframe = dataset"
   ]
  },
  {
   "cell_type": "markdown",
   "id": "a3cf83b4",
   "metadata": {},
   "source": [
    "### Standardizing Dataset :"
   ]
  },
  {
   "cell_type": "markdown",
   "id": "cf89990a",
   "metadata": {},
   "source": [
    "\n",
    "Standardizing a dataset involves transforming its features so that they have a mean of 0 and a standard deviation of 1. This process is often referred to as \"feature scaling\" or \"data normalization.\" Standardization is a common preprocessing step in machine learning and statistics."
   ]
  },
  {
   "cell_type": "markdown",
   "id": "d5ad47aa",
   "metadata": {},
   "source": [
    "\n",
    "Importing the StandardScaler class from scikit-learn. Creating a scaler instance (sc). Standardizing the dataset using fit_transform(), centering features around zero and scaling them to have a standard deviation of one."
   ]
  },
  {
   "cell_type": "code",
   "execution_count": 14,
   "id": "4b54ae62",
   "metadata": {},
   "outputs": [],
   "source": [
    "from sklearn.preprocessing import StandardScaler\n",
    "sc = StandardScaler()\n",
    "dataset = sc.fit_transform(dataset)"
   ]
  },
  {
   "cell_type": "code",
   "execution_count": 15,
   "id": "70f0deb1",
   "metadata": {
    "scrolled": true
   },
   "outputs": [
    {
     "data": {
      "text/plain": [
       "array([[-1.7234121 ,  1.12815215, -1.42456879, -1.73899919, -0.43480148],\n",
       "       [-1.70609137,  1.12815215, -1.28103541, -1.73899919,  1.19570407],\n",
       "       [-1.68877065, -0.88640526, -1.3528021 , -1.70082976, -1.71591298],\n",
       "       [-1.67144992, -0.88640526, -1.13750203, -1.70082976,  1.04041783],\n",
       "       [-1.6541292 , -0.88640526, -0.56336851, -1.66266033, -0.39597992],\n",
       "       [-1.63680847, -0.88640526, -1.20926872, -1.66266033,  1.00159627],\n",
       "       [-1.61948775, -0.88640526, -0.27630176, -1.62449091, -1.71591298],\n",
       "       [-1.60216702, -0.88640526, -1.13750203, -1.62449091,  1.70038436],\n",
       "       [-1.5848463 ,  1.12815215,  1.80493225, -1.58632148, -1.83237767],\n",
       "       [-1.56752558, -0.88640526, -0.6351352 , -1.58632148,  0.84631002],\n",
       "       [-1.55020485,  1.12815215,  2.02023231, -1.58632148, -1.4053405 ],\n",
       "       [-1.53288413, -0.88640526, -0.27630176, -1.58632148,  1.89449216],\n",
       "       [-1.5155634 , -0.88640526,  1.37433211, -1.54815205, -1.36651894],\n",
       "       [-1.49824268, -0.88640526, -1.06573534, -1.54815205,  1.04041783],\n",
       "       [-1.48092195,  1.12815215, -0.13276838, -1.54815205, -1.44416206],\n",
       "       [-1.46360123,  1.12815215, -1.20926872, -1.54815205,  1.11806095],\n",
       "       [-1.4462805 , -0.88640526, -0.27630176, -1.50998262, -0.59008772],\n",
       "       [-1.42895978,  1.12815215, -1.3528021 , -1.50998262,  0.61338066],\n",
       "       [-1.41163905,  1.12815215,  0.94373197, -1.43364376, -0.82301709],\n",
       "       [-1.39431833, -0.88640526, -0.27630176, -1.43364376,  1.8556706 ],\n",
       "       [-1.3769976 ,  1.12815215, -0.27630176, -1.39547433, -0.59008772],\n",
       "       [-1.35967688,  1.12815215, -0.99396865, -1.39547433,  0.88513158],\n",
       "       [-1.34235616, -0.88640526,  0.51313183, -1.3573049 , -1.75473454],\n",
       "       [-1.32503543,  1.12815215, -0.56336851, -1.3573049 ,  0.88513158],\n",
       "       [-1.30771471, -0.88640526,  1.08726535, -1.24279661, -1.4053405 ],\n",
       "       [-1.29039398,  1.12815215, -0.70690189, -1.24279661,  1.23452563],\n",
       "       [-1.27307326, -0.88640526,  0.44136514, -1.24279661, -0.7065524 ],\n",
       "       [-1.25575253,  1.12815215, -0.27630176, -1.24279661,  0.41927286],\n",
       "       [-1.23843181, -0.88640526,  0.08253169, -1.20462718, -0.74537397],\n",
       "       [-1.22111108, -0.88640526, -1.13750203, -1.20462718,  1.42863343],\n",
       "       [-1.20379036,  1.12815215,  1.51786549, -1.16645776, -1.7935561 ],\n",
       "       [-1.18646963, -0.88640526, -1.28103541, -1.16645776,  0.88513158],\n",
       "       [-1.16914891,  1.12815215,  1.01549866, -1.05194947, -1.7935561 ],\n",
       "       [-1.15182818,  1.12815215, -1.49633548, -1.05194947,  1.62274124],\n",
       "       [-1.13450746, -0.88640526,  0.7284319 , -1.05194947, -1.4053405 ],\n",
       "       [-1.11718674, -0.88640526, -1.28103541, -1.05194947,  1.19570407],\n",
       "       [-1.09986601, -0.88640526,  0.22606507, -1.01378004, -1.28887582],\n",
       "       [-1.08254529, -0.88640526, -0.6351352 , -1.01378004,  0.88513158],\n",
       "       [-1.06522456, -0.88640526, -0.20453507, -0.89927175, -0.93948177],\n",
       "       [-1.04790384, -0.88640526, -1.3528021 , -0.89927175,  0.96277471],\n",
       "       [-1.03058311, -0.88640526,  1.87669894, -0.86110232, -0.59008772],\n",
       "       [-1.01326239,  1.12815215, -1.06573534, -0.86110232,  1.62274124],\n",
       "       [-0.99594166,  1.12815215,  0.65666521, -0.82293289, -0.55126616],\n",
       "       [-0.97862094, -0.88640526, -0.56336851, -0.82293289,  0.41927286],\n",
       "       [-0.96130021, -0.88640526,  0.7284319 , -0.82293289, -0.86183865],\n",
       "       [-0.94397949, -0.88640526, -1.06573534, -0.82293289,  0.5745591 ],\n",
       "       [-0.92665877, -0.88640526,  0.80019859, -0.78476346,  0.18634349],\n",
       "       [-0.90933804, -0.88640526, -0.85043527, -0.78476346, -0.12422899],\n",
       "       [-0.89201732, -0.88640526, -0.70690189, -0.78476346, -0.3183368 ],\n",
       "       [-0.87469659, -0.88640526, -0.56336851, -0.78476346, -0.3183368 ],\n",
       "       [-0.85737587, -0.88640526,  0.7284319 , -0.70842461,  0.06987881],\n",
       "       [-0.84005514,  1.12815215, -0.41983513, -0.70842461,  0.38045129],\n",
       "       [-0.82273442, -0.88640526, -0.56336851, -0.67025518,  0.14752193],\n",
       "       [-0.80541369,  1.12815215,  1.4460988 , -0.67025518,  0.38045129],\n",
       "       [-0.78809297, -0.88640526,  0.80019859, -0.67025518, -0.20187212],\n",
       "       [-0.77077224,  1.12815215,  0.58489852, -0.67025518, -0.35715836],\n",
       "       [-0.75345152, -0.88640526,  0.87196528, -0.63208575, -0.00776431],\n",
       "       [-0.73613079,  1.12815215,  2.16376569, -0.63208575, -0.16305055],\n",
       "       [-0.71881007, -0.88640526, -0.85043527, -0.55574689,  0.03105725],\n",
       "       [-0.70148935,  1.12815215,  1.01549866, -0.55574689, -0.16305055],\n",
       "       [-0.68416862,  1.12815215,  2.23553238, -0.55574689,  0.22516505],\n",
       "       [-0.6668479 ,  1.12815215, -1.42456879, -0.55574689,  0.18634349],\n",
       "       [-0.64952717, -0.88640526,  2.02023231, -0.51757746,  0.06987881],\n",
       "       [-0.63220645, -0.88640526,  1.08726535, -0.51757746,  0.34162973],\n",
       "       [-0.61488572,  1.12815215,  1.73316556, -0.47940803,  0.03105725],\n",
       "       [-0.597565  ,  1.12815215, -1.49633548, -0.47940803,  0.34162973],\n",
       "       [-0.58024427, -0.88640526,  0.29783176, -0.47940803, -0.00776431],\n",
       "       [-0.56292355, -0.88640526,  2.091999  , -0.47940803, -0.08540743],\n",
       "       [-0.54560282,  1.12815215, -1.42456879, -0.47940803,  0.34162973],\n",
       "       [-0.5282821 , -0.88640526, -0.49160182, -0.47940803, -0.12422899],\n",
       "       [-0.51096138,  1.12815215,  2.23553238, -0.4412386 ,  0.18634349],\n",
       "       [-0.49364065, -0.88640526,  0.58489852, -0.4412386 , -0.3183368 ],\n",
       "       [-0.47631993, -0.88640526,  1.51786549, -0.40306917, -0.04658587],\n",
       "       [-0.4589992 , -0.88640526,  1.51786549, -0.40306917,  0.22516505],\n",
       "       [-0.44167848,  1.12815215,  1.4460988 , -0.25039146, -0.12422899],\n",
       "       [-0.42435775,  1.12815215, -0.92220196, -0.25039146,  0.14752193],\n",
       "       [-0.40703703, -0.88640526,  0.44136514, -0.25039146,  0.10870037],\n",
       "       [-0.3897163 ,  1.12815215,  0.08253169, -0.25039146, -0.08540743],\n",
       "       [-0.37239558, -0.88640526, -1.13750203, -0.25039146,  0.06987881],\n",
       "       [-0.35507485, -0.88640526,  0.7284319 , -0.25039146, -0.3183368 ],\n",
       "       [-0.33775413,  1.12815215,  1.30256542, -0.25039146,  0.03105725],\n",
       "       [-0.3204334 ,  1.12815215, -0.06100169, -0.25039146,  0.18634349],\n",
       "       [-0.30311268,  1.12815215,  2.02023231, -0.25039146, -0.35715836],\n",
       "       [-0.28579196, -0.88640526,  0.51313183, -0.25039146, -0.24069368],\n",
       "       [-0.26847123, -0.88640526, -1.28103541, -0.25039146,  0.26398661],\n",
       "       [-0.25115051,  1.12815215,  0.65666521, -0.25039146, -0.16305055],\n",
       "       [-0.23382978, -0.88640526,  1.15903204, -0.13588317,  0.30280817],\n",
       "       [-0.21650906, -0.88640526, -1.20926872, -0.13588317,  0.18634349],\n",
       "       [-0.19918833, -0.88640526, -0.34806844, -0.09771374,  0.38045129],\n",
       "       [-0.18186761, -0.88640526,  0.80019859, -0.09771374, -0.16305055],\n",
       "       [-0.16454688, -0.88640526,  2.091999  , -0.05954431,  0.18634349],\n",
       "       [-0.14722616,  1.12815215, -1.49633548, -0.05954431, -0.35715836],\n",
       "       [-0.12990543,  1.12815215,  0.65666521, -0.02137488, -0.04658587],\n",
       "       [-0.11258471, -0.88640526,  0.08253169, -0.02137488, -0.39597992],\n",
       "       [-0.09526399, -0.88640526, -0.49160182, -0.02137488, -0.3183368 ],\n",
       "       [-0.07794326,  1.12815215, -1.06573534, -0.02137488,  0.06987881],\n",
       "       [-0.06062254, -0.88640526,  0.58489852, -0.02137488, -0.12422899],\n",
       "       [-0.04330181, -0.88640526, -0.85043527, -0.02137488, -0.00776431],\n",
       "       [-0.02598109,  1.12815215,  0.65666521,  0.01679455, -0.3183368 ],\n",
       "       [-0.00866036,  1.12815215, -1.3528021 ,  0.01679455, -0.04658587],\n",
       "       [ 0.00866036, -0.88640526, -1.13750203,  0.05496398, -0.35715836],\n",
       "       [ 0.02598109, -0.88640526,  0.7284319 ,  0.05496398, -0.08540743],\n",
       "       [ 0.04330181,  1.12815215,  2.02023231,  0.05496398,  0.34162973],\n",
       "       [ 0.06062254,  1.12815215, -0.92220196,  0.05496398,  0.18634349],\n",
       "       [ 0.07794326,  1.12815215,  0.7284319 ,  0.05496398,  0.22516505],\n",
       "       [ 0.09526399, -0.88640526, -1.28103541,  0.05496398, -0.3183368 ],\n",
       "       [ 0.11258471, -0.88640526,  1.94846562,  0.09313341, -0.00776431],\n",
       "       [ 0.12990543,  1.12815215,  1.08726535,  0.09313341, -0.16305055],\n",
       "       [ 0.14722616,  1.12815215,  2.091999  ,  0.09313341, -0.27951524],\n",
       "       [ 0.16454688,  1.12815215,  1.94846562,  0.09313341, -0.08540743],\n",
       "       [ 0.18186761,  1.12815215,  1.87669894,  0.09313341,  0.06987881],\n",
       "       [ 0.19918833, -0.88640526, -1.42456879,  0.09313341,  0.14752193],\n",
       "       [ 0.21650906, -0.88640526, -0.06100169,  0.13130284, -0.3183368 ],\n",
       "       [ 0.23382978,  1.12815215, -1.42456879,  0.13130284, -0.16305055],\n",
       "       [ 0.25115051, -0.88640526, -1.49633548,  0.16947227, -0.08540743],\n",
       "       [ 0.26847123, -0.88640526, -1.42456879,  0.16947227, -0.00776431],\n",
       "       [ 0.28579196, -0.88640526,  1.73316556,  0.16947227, -0.27951524],\n",
       "       [ 0.30311268, -0.88640526,  0.7284319 ,  0.16947227,  0.34162973],\n",
       "       [ 0.3204334 , -0.88640526,  0.87196528,  0.24581112, -0.27951524],\n",
       "       [ 0.33775413, -0.88640526,  0.80019859,  0.24581112,  0.26398661],\n",
       "       [ 0.35507485,  1.12815215, -0.85043527,  0.24581112,  0.22516505],\n",
       "       [ 0.37239558, -0.88640526, -0.06100169,  0.24581112, -0.39597992],\n",
       "       [ 0.3897163 , -0.88640526,  0.08253169,  0.32214998,  0.30280817],\n",
       "       [ 0.40703703,  1.12815215,  0.010765  ,  0.32214998,  1.58391968],\n",
       "       [ 0.42435775, -0.88640526, -1.13750203,  0.36031941, -0.82301709],\n",
       "       [ 0.44167848, -0.88640526, -0.56336851,  0.36031941,  1.04041783],\n",
       "       [ 0.4589992 ,  1.12815215,  0.29783176,  0.39848884, -0.59008772],\n",
       "       [ 0.47631993,  1.12815215,  0.08253169,  0.39848884,  1.73920592],\n",
       "       [ 0.49364065,  1.12815215,  1.4460988 ,  0.39848884, -1.52180518],\n",
       "       [ 0.51096138,  1.12815215, -0.06100169,  0.39848884,  0.96277471],\n",
       "       [ 0.5282821 ,  1.12815215,  0.58489852,  0.39848884, -1.5994483 ],\n",
       "       [ 0.54560282,  1.12815215,  0.010765  ,  0.39848884,  0.96277471],\n",
       "       [ 0.56292355, -0.88640526, -0.99396865,  0.43665827, -0.62890928],\n",
       "       [ 0.58024427, -0.88640526, -0.56336851,  0.43665827,  0.80748846],\n",
       "       [ 0.597565  ,  1.12815215, -1.3528021 ,  0.4748277 , -1.75473454],\n",
       "       [ 0.61488572, -0.88640526, -0.70690189,  0.4748277 ,  1.46745499],\n",
       "       [ 0.63220645, -0.88640526,  0.36959845,  0.4748277 , -1.67709142],\n",
       "       [ 0.64952717,  1.12815215, -0.49160182,  0.4748277 ,  0.88513158],\n",
       "       [ 0.6668479 ,  1.12815215, -1.42456879,  0.51299713, -1.56062674],\n",
       "       [ 0.68416862, -0.88640526, -0.27630176,  0.51299713,  0.84631002],\n",
       "       [ 0.70148935, -0.88640526,  1.30256542,  0.55116656, -1.75473454],\n",
       "       [ 0.71881007,  1.12815215, -0.49160182,  0.55116656,  1.6615628 ],\n",
       "       [ 0.73613079, -0.88640526, -0.77866858,  0.58933599, -0.39597992],\n",
       "       [ 0.75345152, -0.88640526, -0.49160182,  0.58933599,  1.42863343],\n",
       "       [ 0.77077224,  1.12815215, -0.99396865,  0.62750542, -1.48298362],\n",
       "       [ 0.78809297,  1.12815215, -0.77866858,  0.62750542,  1.81684904],\n",
       "       [ 0.80541369,  1.12815215,  0.65666521,  0.62750542, -0.55126616],\n",
       "       [ 0.82273442, -0.88640526, -0.49160182,  0.62750542,  0.92395314],\n",
       "       [ 0.84005514, -0.88640526, -0.34806844,  0.66567484, -1.09476801],\n",
       "       [ 0.85737587,  1.12815215, -0.34806844,  0.66567484,  1.54509812],\n",
       "       [ 0.87469659,  1.12815215,  0.29783176,  0.66567484, -1.28887582],\n",
       "       [ 0.89201732,  1.12815215,  0.010765  ,  0.66567484,  1.46745499],\n",
       "       [ 0.90933804, -0.88640526,  0.36959845,  0.66567484, -1.17241113],\n",
       "       [ 0.92665877, -0.88640526, -0.06100169,  0.66567484,  1.00159627],\n",
       "       [ 0.94397949, -0.88640526,  0.58489852,  0.66567484, -1.32769738],\n",
       "       [ 0.96130021, -0.88640526, -0.85043527,  0.66567484,  1.50627656],\n",
       "       [ 0.97862094,  1.12815215, -0.13276838,  0.66567484, -1.91002079],\n",
       "       [ 0.99594166, -0.88640526, -0.6351352 ,  0.66567484,  1.07923939],\n",
       "       [ 1.01326239,  1.12815215, -0.34806844,  0.66567484, -1.91002079],\n",
       "       [ 1.03058311, -0.88640526, -0.6351352 ,  0.66567484,  0.88513158],\n",
       "       [ 1.04790384, -0.88640526,  1.23079873,  0.70384427, -0.59008772],\n",
       "       [ 1.06522456, -0.88640526, -0.70690189,  0.70384427,  1.27334719],\n",
       "       [ 1.08254529,  1.12815215, -1.42456879,  0.78018313, -1.75473454],\n",
       "       [ 1.09986601, -0.88640526, -0.56336851,  0.78018313,  1.6615628 ],\n",
       "       [ 1.11718674,  1.12815215,  0.80019859,  0.93286085, -0.93948177],\n",
       "       [ 1.13450746, -0.88640526, -0.20453507,  0.93286085,  0.96277471],\n",
       "       [ 1.15182818,  1.12815215,  0.22606507,  0.97103028, -1.17241113],\n",
       "       [ 1.16914891, -0.88640526, -0.41983513,  0.97103028,  1.73920592],\n",
       "       [ 1.18646963, -0.88640526, -0.20453507,  1.00919971, -0.90066021],\n",
       "       [ 1.20379036,  1.12815215, -0.49160182,  1.00919971,  0.49691598],\n",
       "       [ 1.22111108,  1.12815215,  0.08253169,  1.00919971, -1.44416206],\n",
       "       [ 1.23843181,  1.12815215, -0.77866858,  1.00919971,  0.96277471],\n",
       "       [ 1.25575253,  1.12815215, -0.20453507,  1.00919971, -1.56062674],\n",
       "       [ 1.27307326,  1.12815215, -0.20453507,  1.00919971,  1.62274124],\n",
       "       [ 1.29039398, -0.88640526,  0.94373197,  1.04736914, -1.44416206],\n",
       "       [ 1.30771471, -0.88640526, -0.6351352 ,  1.04736914,  1.38981187],\n",
       "       [ 1.32503543,  1.12815215,  1.37433211,  1.04736914, -1.36651894],\n",
       "       [ 1.34235616,  1.12815215, -0.85043527,  1.04736914,  0.72984534],\n",
       "       [ 1.35967688,  1.12815215,  1.4460988 ,  1.23821628, -1.4053405 ],\n",
       "       [ 1.3769976 ,  1.12815215, -0.27630176,  1.23821628,  1.54509812],\n",
       "       [ 1.39431833, -0.88640526, -0.13276838,  1.390894  , -0.7065524 ],\n",
       "       [ 1.41163905, -0.88640526, -0.49160182,  1.390894  ,  1.38981187],\n",
       "       [ 1.42895978,  1.12815215,  0.51313183,  1.42906343, -1.36651894],\n",
       "       [ 1.4462805 , -0.88640526, -0.70690189,  1.42906343,  1.46745499],\n",
       "       [ 1.46360123, -0.88640526,  0.15429838,  1.46723286, -0.43480148],\n",
       "       [ 1.48092195,  1.12815215, -0.6351352 ,  1.46723286,  1.81684904],\n",
       "       [ 1.49824268, -0.88640526,  1.08726535,  1.54357172, -1.01712489],\n",
       "       [ 1.5155634 ,  1.12815215, -0.77866858,  1.54357172,  0.69102378],\n",
       "       [ 1.53288413, -0.88640526,  0.15429838,  1.61991057, -1.28887582],\n",
       "       [ 1.55020485, -0.88640526, -0.20453507,  1.61991057,  1.35099031],\n",
       "       [ 1.56752558, -0.88640526, -0.34806844,  1.61991057, -1.05594645],\n",
       "       [ 1.5848463 , -0.88640526, -0.49160182,  1.61991057,  0.72984534],\n",
       "       [ 1.60216702,  1.12815215, -0.41983513,  2.00160487, -1.63826986],\n",
       "       [ 1.61948775, -0.88640526, -0.06100169,  2.00160487,  1.58391968],\n",
       "       [ 1.63680847, -0.88640526,  0.58489852,  2.26879087, -1.32769738],\n",
       "       [ 1.6541292 , -0.88640526, -0.27630176,  2.26879087,  1.11806095],\n",
       "       [ 1.67144992, -0.88640526,  0.44136514,  2.49780745, -0.86183865],\n",
       "       [ 1.68877065,  1.12815215, -0.49160182,  2.49780745,  0.92395314],\n",
       "       [ 1.70609137,  1.12815215, -0.49160182,  2.91767117, -1.25005425],\n",
       "       [ 1.7234121 ,  1.12815215, -0.6351352 ,  2.91767117,  1.27334719]])"
      ]
     },
     "execution_count": 15,
     "metadata": {},
     "output_type": "execute_result"
    }
   ],
   "source": [
    "dataset"
   ]
  },
  {
   "cell_type": "markdown",
   "id": "22d3b28f",
   "metadata": {},
   "source": [
    "### Clustering :"
   ]
  },
  {
   "cell_type": "markdown",
   "id": "8fe5ee69",
   "metadata": {},
   "source": [
    "\n",
    "Clustering is an unsupervised learning method grouping similar data points. It identifies inherent patterns without predefined outcomes, aiming to form clusters where data points within the same group share similarities.\n",
    "\n"
   ]
  },
  {
   "cell_type": "markdown",
   "id": "45239df1",
   "metadata": {},
   "source": [
    "### KMeans :"
   ]
  },
  {
   "cell_type": "markdown",
   "id": "753774b4",
   "metadata": {},
   "source": [
    "\n",
    "KMeans is a partitioning clustering algorithm that divides a dataset into K clusters based on feature similarity. It iteratively assigns data points to clusters, updating centroids until convergence. Sensitive to initial centroid placement, it commonly uses methods like k-means++ for improved convergence. Widely applied in tasks like image segmentation and customer segmentation."
   ]
  },
  {
   "cell_type": "code",
   "execution_count": 16,
   "id": "a2985c4a",
   "metadata": {},
   "outputs": [],
   "source": [
    "from sklearn.cluster import KMeans"
   ]
  },
  {
   "cell_type": "markdown",
   "id": "65b3af43",
   "metadata": {},
   "source": [
    "Creating a loop to run the k-means clustering algorithm for different numbers of clusters (1 to 19). For each iteration, calculating the within-cluster sum of squares (WCSS) and storing the values in a list (wcss). After the loop, plotting the WCSS values against the number of clusters to find the optimal cluster number using the elbow method. The resulting plot is displayed with labels for clarity."
   ]
  },
  {
   "cell_type": "code",
   "execution_count": 18,
   "id": "0bf9c7f6",
   "metadata": {
    "scrolled": false
   },
   "outputs": [
    {
     "name": "stderr",
     "output_type": "stream",
     "text": [
      "C:\\Users\\DELL\\AppData\\Local\\Programs\\Python\\Python311\\Lib\\site-packages\\sklearn\\cluster\\_kmeans.py:870: FutureWarning: The default value of `n_init` will change from 10 to 'auto' in 1.4. Set the value of `n_init` explicitly to suppress the warning\n",
      "  warnings.warn(\n",
      "C:\\Users\\DELL\\AppData\\Local\\Programs\\Python\\Python311\\Lib\\site-packages\\sklearn\\cluster\\_kmeans.py:870: FutureWarning: The default value of `n_init` will change from 10 to 'auto' in 1.4. Set the value of `n_init` explicitly to suppress the warning\n",
      "  warnings.warn(\n",
      "C:\\Users\\DELL\\AppData\\Local\\Programs\\Python\\Python311\\Lib\\site-packages\\sklearn\\cluster\\_kmeans.py:870: FutureWarning: The default value of `n_init` will change from 10 to 'auto' in 1.4. Set the value of `n_init` explicitly to suppress the warning\n",
      "  warnings.warn(\n",
      "C:\\Users\\DELL\\AppData\\Local\\Programs\\Python\\Python311\\Lib\\site-packages\\sklearn\\cluster\\_kmeans.py:870: FutureWarning: The default value of `n_init` will change from 10 to 'auto' in 1.4. Set the value of `n_init` explicitly to suppress the warning\n",
      "  warnings.warn(\n",
      "C:\\Users\\DELL\\AppData\\Local\\Programs\\Python\\Python311\\Lib\\site-packages\\sklearn\\cluster\\_kmeans.py:870: FutureWarning: The default value of `n_init` will change from 10 to 'auto' in 1.4. Set the value of `n_init` explicitly to suppress the warning\n",
      "  warnings.warn(\n",
      "C:\\Users\\DELL\\AppData\\Local\\Programs\\Python\\Python311\\Lib\\site-packages\\sklearn\\cluster\\_kmeans.py:870: FutureWarning: The default value of `n_init` will change from 10 to 'auto' in 1.4. Set the value of `n_init` explicitly to suppress the warning\n",
      "  warnings.warn(\n",
      "C:\\Users\\DELL\\AppData\\Local\\Programs\\Python\\Python311\\Lib\\site-packages\\sklearn\\cluster\\_kmeans.py:870: FutureWarning: The default value of `n_init` will change from 10 to 'auto' in 1.4. Set the value of `n_init` explicitly to suppress the warning\n",
      "  warnings.warn(\n",
      "C:\\Users\\DELL\\AppData\\Local\\Programs\\Python\\Python311\\Lib\\site-packages\\sklearn\\cluster\\_kmeans.py:870: FutureWarning: The default value of `n_init` will change from 10 to 'auto' in 1.4. Set the value of `n_init` explicitly to suppress the warning\n",
      "  warnings.warn(\n",
      "C:\\Users\\DELL\\AppData\\Local\\Programs\\Python\\Python311\\Lib\\site-packages\\sklearn\\cluster\\_kmeans.py:870: FutureWarning: The default value of `n_init` will change from 10 to 'auto' in 1.4. Set the value of `n_init` explicitly to suppress the warning\n",
      "  warnings.warn(\n",
      "C:\\Users\\DELL\\AppData\\Local\\Programs\\Python\\Python311\\Lib\\site-packages\\sklearn\\cluster\\_kmeans.py:870: FutureWarning: The default value of `n_init` will change from 10 to 'auto' in 1.4. Set the value of `n_init` explicitly to suppress the warning\n",
      "  warnings.warn(\n",
      "C:\\Users\\DELL\\AppData\\Local\\Programs\\Python\\Python311\\Lib\\site-packages\\sklearn\\cluster\\_kmeans.py:870: FutureWarning: The default value of `n_init` will change from 10 to 'auto' in 1.4. Set the value of `n_init` explicitly to suppress the warning\n",
      "  warnings.warn(\n",
      "C:\\Users\\DELL\\AppData\\Local\\Programs\\Python\\Python311\\Lib\\site-packages\\sklearn\\cluster\\_kmeans.py:870: FutureWarning: The default value of `n_init` will change from 10 to 'auto' in 1.4. Set the value of `n_init` explicitly to suppress the warning\n",
      "  warnings.warn(\n",
      "C:\\Users\\DELL\\AppData\\Local\\Programs\\Python\\Python311\\Lib\\site-packages\\sklearn\\cluster\\_kmeans.py:870: FutureWarning: The default value of `n_init` will change from 10 to 'auto' in 1.4. Set the value of `n_init` explicitly to suppress the warning\n",
      "  warnings.warn(\n",
      "C:\\Users\\DELL\\AppData\\Local\\Programs\\Python\\Python311\\Lib\\site-packages\\sklearn\\cluster\\_kmeans.py:870: FutureWarning: The default value of `n_init` will change from 10 to 'auto' in 1.4. Set the value of `n_init` explicitly to suppress the warning\n",
      "  warnings.warn(\n"
     ]
    },
    {
     "data": {
      "image/png": "[encoded data removed]",
      "text/plain": [
       "<Figure size 640x480 with 1 Axes>"
      ]
     },
     "metadata": {},
     "output_type": "display_data"
    }
   ],
   "source": [
    "wcss = []\n",
    "for i in range(1, 15):\n",
    "    kmeans = KMeans(n_clusters = i, init = 'k-means++')\n",
    "    kmeans.fit(dataset)\n",
    "    wcss.append(kmeans.inertia_)\n",
    "    \n",
    "plt.plot(range(1, 15), wcss, 'bx-')\n",
    "plt.title('The Elbow Methode')\n",
    "plt.xlabel('Number of Cluster')\n",
    "plt.ylabel('WCSS')\n",
    "plt.show()"
   ]
  },
  {
   "cell_type": "markdown",
   "id": "2224d8e2",
   "metadata": {},
   "source": [
    "Importing the KElbowVisualizer class from the yellowbrick.cluster module and creating a KMeans model with a random state of 1. Initializing a KElbowVisualizer instance with a range of clusters from 1 to 15. Fitting the visualizer to the dataset to determine the optimal number of clusters using the elbow method, and displaying the resulting visualization."
   ]
  },
  {
   "cell_type": "code",
   "execution_count": 19,
   "id": "8ddc9536",
   "metadata": {},
   "outputs": [
    {
     "name": "stderr",
     "output_type": "stream",
     "text": [
      "C:\\Users\\DELL\\AppData\\Local\\Programs\\Python\\Python311\\Lib\\site-packages\\sklearn\\cluster\\_kmeans.py:870: FutureWarning: The default value of `n_init` will change from 10 to 'auto' in 1.4. Set the value of `n_init` explicitly to suppress the warning\n",
      "  warnings.warn(\n",
      "C:\\Users\\DELL\\AppData\\Local\\Programs\\Python\\Python311\\Lib\\site-packages\\sklearn\\cluster\\_kmeans.py:870: FutureWarning: The default value of `n_init` will change from 10 to 'auto' in 1.4. Set the value of `n_init` explicitly to suppress the warning\n",
      "  warnings.warn(\n",
      "C:\\Users\\DELL\\AppData\\Local\\Programs\\Python\\Python311\\Lib\\site-packages\\sklearn\\cluster\\_kmeans.py:870: FutureWarning: The default value of `n_init` will change from 10 to 'auto' in 1.4. Set the value of `n_init` explicitly to suppress the warning\n",
      "  warnings.warn(\n",
      "C:\\Users\\DELL\\AppData\\Local\\Programs\\Python\\Python311\\Lib\\site-packages\\sklearn\\cluster\\_kmeans.py:870: FutureWarning: The default value of `n_init` will change from 10 to 'auto' in 1.4. Set the value of `n_init` explicitly to suppress the warning\n",
      "  warnings.warn(\n",
      "C:\\Users\\DELL\\AppData\\Local\\Programs\\Python\\Python311\\Lib\\site-packages\\sklearn\\cluster\\_kmeans.py:870: FutureWarning: The default value of `n_init` will change from 10 to 'auto' in 1.4. Set the value of `n_init` explicitly to suppress the warning\n",
      "  warnings.warn(\n",
      "C:\\Users\\DELL\\AppData\\Local\\Programs\\Python\\Python311\\Lib\\site-packages\\sklearn\\cluster\\_kmeans.py:870: FutureWarning: The default value of `n_init` will change from 10 to 'auto' in 1.4. Set the value of `n_init` explicitly to suppress the warning\n",
      "  warnings.warn(\n",
      "C:\\Users\\DELL\\AppData\\Local\\Programs\\Python\\Python311\\Lib\\site-packages\\sklearn\\cluster\\_kmeans.py:870: FutureWarning: The default value of `n_init` will change from 10 to 'auto' in 1.4. Set the value of `n_init` explicitly to suppress the warning\n",
      "  warnings.warn(\n",
      "C:\\Users\\DELL\\AppData\\Local\\Programs\\Python\\Python311\\Lib\\site-packages\\sklearn\\cluster\\_kmeans.py:870: FutureWarning: The default value of `n_init` will change from 10 to 'auto' in 1.4. Set the value of `n_init` explicitly to suppress the warning\n",
      "  warnings.warn(\n",
      "C:\\Users\\DELL\\AppData\\Local\\Programs\\Python\\Python311\\Lib\\site-packages\\sklearn\\cluster\\_kmeans.py:870: FutureWarning: The default value of `n_init` will change from 10 to 'auto' in 1.4. Set the value of `n_init` explicitly to suppress the warning\n",
      "  warnings.warn(\n",
      "C:\\Users\\DELL\\AppData\\Local\\Programs\\Python\\Python311\\Lib\\site-packages\\sklearn\\cluster\\_kmeans.py:870: FutureWarning: The default value of `n_init` will change from 10 to 'auto' in 1.4. Set the value of `n_init` explicitly to suppress the warning\n",
      "  warnings.warn(\n",
      "C:\\Users\\DELL\\AppData\\Local\\Programs\\Python\\Python311\\Lib\\site-packages\\sklearn\\cluster\\_kmeans.py:870: FutureWarning: The default value of `n_init` will change from 10 to 'auto' in 1.4. Set the value of `n_init` explicitly to suppress the warning\n",
      "  warnings.warn(\n",
      "C:\\Users\\DELL\\AppData\\Local\\Programs\\Python\\Python311\\Lib\\site-packages\\sklearn\\cluster\\_kmeans.py:870: FutureWarning: The default value of `n_init` will change from 10 to 'auto' in 1.4. Set the value of `n_init` explicitly to suppress the warning\n",
      "  warnings.warn(\n",
      "C:\\Users\\DELL\\AppData\\Local\\Programs\\Python\\Python311\\Lib\\site-packages\\sklearn\\cluster\\_kmeans.py:870: FutureWarning: The default value of `n_init` will change from 10 to 'auto' in 1.4. Set the value of `n_init` explicitly to suppress the warning\n",
      "  warnings.warn(\n",
      "C:\\Users\\DELL\\AppData\\Local\\Programs\\Python\\Python311\\Lib\\site-packages\\sklearn\\cluster\\_kmeans.py:870: FutureWarning: The default value of `n_init` will change from 10 to 'auto' in 1.4. Set the value of `n_init` explicitly to suppress the warning\n",
      "  warnings.warn(\n"
     ]
    },
    {
     "data": {
      "image/png": "[encoded data removed]",
      "text/plain": [
       "<Figure size 800x550 with 2 Axes>"
      ]
     },
     "metadata": {},
     "output_type": "display_data"
    }
   ],
   "source": [
    "from yellowbrick.cluster import KElbowVisualizer\n",
    "\n",
    "model = KMeans(random_state = 1)\n",
    "visualizer = KElbowVisualizer(model, k = (1,15))\n",
    "\n",
    "visualizer.fit(dataset)\n",
    "visualizer.show()\n",
    "plt.show()"
   ]
  },
  {
   "cell_type": "markdown",
   "id": "520db02a",
   "metadata": {},
   "source": [
    "\n",
    "Initializing and fitting a KMeans model with 6 clusters, k-means++ initialization, and a random state of 0, then assigning the cluster labels to the variable y_kmeans"
   ]
  },
  {
   "cell_type": "code",
   "execution_count": 20,
   "id": "4815ddfd",
   "metadata": {},
   "outputs": [
    {
     "name": "stderr",
     "output_type": "stream",
     "text": [
      "C:\\Users\\DELL\\AppData\\Local\\Programs\\Python\\Python311\\Lib\\site-packages\\sklearn\\cluster\\_kmeans.py:870: FutureWarning: The default value of `n_init` will change from 10 to 'auto' in 1.4. Set the value of `n_init` explicitly to suppress the warning\n",
      "  warnings.warn(\n"
     ]
    }
   ],
   "source": [
    "kmeans = KMeans(n_clusters = 5, init = 'k-means++', random_state = 0)\n",
    "y_kmeans = kmeans.fit_predict(dataset)"
   ]
  },
  {
   "cell_type": "code",
   "execution_count": 21,
   "id": "e7a82c3e",
   "metadata": {},
   "outputs": [
    {
     "data": {
      "text/plain": [
       "array([3, 3, 3, 3, 3, 3, 4, 3, 1, 3, 1, 3, 4, 3, 1, 3, 3, 3, 1, 3, 3, 3,\n",
       "       4, 3, 4, 3, 4, 3, 4, 3, 1, 3, 1, 3, 4, 3, 4, 3, 4, 3, 4, 3, 1, 3,\n",
       "       4, 3, 4, 3, 3, 3, 4, 3, 3, 1, 4, 1, 4, 1, 3, 1, 1, 3, 4, 4, 1, 3,\n",
       "       4, 4, 3, 3, 1, 4, 4, 4, 1, 3, 4, 1, 3, 4, 1, 1, 1, 4, 3, 1, 4, 3,\n",
       "       4, 4, 4, 3, 1, 4, 4, 3, 4, 3, 1, 3, 3, 4, 1, 3, 1, 3, 4, 1, 1, 1,\n",
       "       1, 3, 4, 3, 3, 3, 4, 4, 4, 4, 2, 4, 4, 2, 0, 2, 0, 2, 1, 2, 0, 2,\n",
       "       0, 2, 0, 2, 0, 2, 0, 2, 0, 2, 0, 2, 0, 2, 0, 2, 0, 2, 0, 2, 0, 2,\n",
       "       0, 2, 0, 2, 0, 2, 0, 2, 0, 2, 0, 2, 0, 2, 0, 2, 0, 2, 0, 2, 0, 2,\n",
       "       0, 2, 0, 2, 0, 2, 0, 2, 0, 2, 0, 2, 0, 2, 0, 2, 0, 2, 0, 2, 0, 2,\n",
       "       0, 2])"
      ]
     },
     "execution_count": 21,
     "metadata": {},
     "output_type": "execute_result"
    }
   ],
   "source": [
    "y_kmeans"
   ]
  },
  {
   "cell_type": "markdown",
   "id": "043e63af",
   "metadata": {},
   "source": [
    "Reshaping the y_kmeans array to have a single column using the reshape method and then concatenating it with the original dataframe along the second axis to create a new array bx."
   ]
  },
  {
   "cell_type": "code",
   "execution_count": 22,
   "id": "8b216d77",
   "metadata": {},
   "outputs": [],
   "source": [
    "y_kmeans = y_kmeans.reshape(len(y_kmeans), 1)"
   ]
  },
  {
   "cell_type": "code",
   "execution_count": 23,
   "id": "9c51e517",
   "metadata": {},
   "outputs": [],
   "source": [
    "bx = np.concatenate((y_kmeans, dataframe), axis = 1)"
   ]
  },
  {
   "cell_type": "code",
   "execution_count": 24,
   "id": "551c5ae9",
   "metadata": {},
   "outputs": [
    {
     "data": {
      "text/plain": [
       "Index(['CustomerID', 'Gender', 'Age', 'Annual Income (k$)',\n",
       "       'Spending Score (1-100)'],\n",
       "      dtype='object')"
      ]
     },
     "execution_count": 24,
     "metadata": {},
     "output_type": "execute_result"
    }
   ],
   "source": [
    "dataframe.columns"
   ]
  },
  {
   "cell_type": "code",
   "execution_count": 25,
   "id": "34dfd47b",
   "metadata": {},
   "outputs": [],
   "source": [
    "dataframe_final = pd.DataFrame(data = bx, columns = ['Cluster_numbers','CustomerID', 'Gender', 'Age', 'Annual Income (k$)',\n",
    "       'Spending Score (1-100)'])"
   ]
  },
  {
   "cell_type": "code",
   "execution_count": 26,
   "id": "3ec1e296",
   "metadata": {},
   "outputs": [
    {
     "data": {
      "text/html": [
       "<div>\n",
       "<style scoped>\n",
       "    .dataframe tbody tr th:only-of-type {\n",
       "        vertical-align: middle;\n",
       "    }\n",
       "\n",
       "    .dataframe tbody tr th {\n",
       "        vertical-align: top;\n",
       "    }\n",
       "\n",
       "    .dataframe thead th {\n",
       "        text-align: right;\n",
       "    }\n",
       "</style>\n",
       "<table border=\"1\" class=\"dataframe\">\n",
       "  <thead>\n",
       "    <tr style=\"text-align: right;\">\n",
       "      <th></th>\n",
       "      <th>Cluster_numbers</th>\n",
       "      <th>CustomerID</th>\n",
       "      <th>Gender</th>\n",
       "      <th>Age</th>\n",
       "      <th>Annual Income (k$)</th>\n",
       "      <th>Spending Score (1-100)</th>\n",
       "    </tr>\n",
       "  </thead>\n",
       "  <tbody>\n",
       "    <tr>\n",
       "      <th>0</th>\n",
       "      <td>3</td>\n",
       "      <td>1</td>\n",
       "      <td>1</td>\n",
       "      <td>19</td>\n",
       "      <td>15</td>\n",
       "      <td>39</td>\n",
       "    </tr>\n",
       "    <tr>\n",
       "      <th>1</th>\n",
       "      <td>3</td>\n",
       "      <td>2</td>\n",
       "      <td>1</td>\n",
       "      <td>21</td>\n",
       "      <td>15</td>\n",
       "      <td>81</td>\n",
       "    </tr>\n",
       "    <tr>\n",
       "      <th>2</th>\n",
       "      <td>3</td>\n",
       "      <td>3</td>\n",
       "      <td>0</td>\n",
       "      <td>20</td>\n",
       "      <td>16</td>\n",
       "      <td>6</td>\n",
       "    </tr>\n",
       "    <tr>\n",
       "      <th>3</th>\n",
       "      <td>3</td>\n",
       "      <td>4</td>\n",
       "      <td>0</td>\n",
       "      <td>23</td>\n",
       "      <td>16</td>\n",
       "      <td>77</td>\n",
       "    </tr>\n",
       "    <tr>\n",
       "      <th>4</th>\n",
       "      <td>3</td>\n",
       "      <td>5</td>\n",
       "      <td>0</td>\n",
       "      <td>31</td>\n",
       "      <td>17</td>\n",
       "      <td>40</td>\n",
       "    </tr>\n",
       "  </tbody>\n",
       "</table>\n",
       "</div>"
      ],
      "text/plain": [
       "  Cluster_numbers CustomerID Gender Age Annual Income (k$)  \\\n",
       "0               3          1      1  19                 15   \n",
       "1               3          2      1  21                 15   \n",
       "2               3          3      0  20                 16   \n",
       "3               3          4      0  23                 16   \n",
       "4               3          5      0  31                 17   \n",
       "\n",
       "  Spending Score (1-100)  \n",
       "0                     39  \n",
       "1                     81  \n",
       "2                      6  \n",
       "3                     77  \n",
       "4                     40  "
      ]
     },
     "execution_count": 26,
     "metadata": {},
     "output_type": "execute_result"
    }
   ],
   "source": [
    "dataframe_final.head()"
   ]
  },
  {
   "cell_type": "code",
   "execution_count": 27,
   "id": "34169e01",
   "metadata": {},
   "outputs": [],
   "source": [
    "dataframe_final.to_csv('clustered dataset')"
   ]
  },
  {
   "cell_type": "code",
   "execution_count": null,
   "id": "7de6011b",
   "metadata": {},
   "outputs": [],
   "source": []
  }
 ],
 "metadata": {
  "kernelspec": {
   "display_name": "Python 3 (ipykernel)",
   "language": "python",
   "name": "python3"
  },
  "language_info": {
   "codemirror_mode": {
    "name": "ipython",
    "version": 3
   },
   "file_extension": ".py",
   "mimetype": "text/x-python",
   "name": "python",
   "nbconvert_exporter": "python",
   "pygments_lexer": "ipython3",
   "version": "3.11.3"
  }
 },
 "nbformat": 4,
 "nbformat_minor": 5
}
